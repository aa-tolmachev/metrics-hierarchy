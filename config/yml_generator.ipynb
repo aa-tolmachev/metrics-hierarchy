{
 "cells": [
  {
   "cell_type": "raw",
   "id": "93ecb435",
   "metadata": {},
   "source": [
    "--file with metrics and transitions\n",
    "https://docs.google.com/spreadsheets/d/1L30FFx92MuVoYB8lXy0NRoYMI86UBK-JsV3Osc9KsnE/edit?usp=sharing"
   ]
  },
  {
   "cell_type": "code",
   "execution_count": 9,
   "id": "f821b69f",
   "metadata": {},
   "outputs": [],
   "source": [
    "import pandas as pd"
   ]
  },
  {
   "cell_type": "code",
   "execution_count": 12,
   "id": "4a0ca549",
   "metadata": {},
   "outputs": [],
   "source": [
    "df_metrics = pd.read_excel(open('Metrics_teplate.xlsx', 'rb'),\n",
    "              sheet_name='Metrics')  \n"
   ]
  },
  {
   "cell_type": "code",
   "execution_count": 13,
   "id": "1e3a689f",
   "metadata": {},
   "outputs": [],
   "source": [
    "with open('metrics.yml', 'w') as f:\n",
    "    \n",
    "    f.write(\"version: '1.0'\")\n",
    "    f.write('\\n')\n",
    "    f.write('\\n')\n",
    "    \n",
    "    \n",
    "    for i , row in df_metrics.head(30).iterrows():\n",
    "        ID = row['ID']\n",
    "        \n",
    "        \n",
    "        \n",
    "        f.write(f\"{ID}:\" )\n",
    "        f.write('\\n')\n",
    "        f.write(f\"\\tservice: {row['Service']}\\n\")\n",
    "        f.write(f\"\\tname: {row['Name']}\\n\")\n",
    "        f.write(f\"\\tmetric: {row['Metric']}\\n\")\n",
    "        f.write(f\"\\ttype: {row['Type']}\\n\")\n",
    "        f.write(f\"\\tmethodology: {row['Methodology']}\\n\")\n",
    "        f.write(f\"\\tslices: {row['Metric']}\\n\")\n",
    "        f.write('\\n')\n",
    "        "
   ]
  },
  {
   "cell_type": "code",
   "execution_count": 14,
   "id": "75f10ce1",
   "metadata": {},
   "outputs": [],
   "source": [
    "df_transitions = pd.read_excel(open('Metrics_teplate.xlsx', 'rb'),\n",
    "              sheet_name='Transitions')  \n"
   ]
  },
  {
   "cell_type": "code",
   "execution_count": 15,
   "id": "2c05519b",
   "metadata": {},
   "outputs": [],
   "source": [
    "with open('transitions.yml', 'w') as f:\n",
    "    \n",
    "    f.write(\"version: '1.0'\")\n",
    "    f.write('\\n')\n",
    "    f.write('\\n')\n",
    "    \n",
    "    \n",
    "    for i , row in df_transitions.iterrows():\n",
    "        ID = row['ID']\n",
    "        \n",
    "        f.write(f\"{ID}:\" )\n",
    "        f.write('\\n')\n",
    "        f.write(f\"\\tfrom: {row['From']}\\n\")\n",
    "        f.write(f\"\\tto: {row['To']}\\n\")\n",
    "        f.write(f\"\\ttype: {row['Type']}\\n\")\n",
    "        f.write('\\n')\n",
    "        "
   ]
  },
  {
   "cell_type": "code",
   "execution_count": null,
   "id": "525bf1c9",
   "metadata": {},
   "outputs": [],
   "source": []
  }
 ],
 "metadata": {
  "kernelspec": {
   "display_name": "Python 3",
   "language": "python",
   "name": "python3"
  },
  "language_info": {
   "codemirror_mode": {
    "name": "ipython",
    "version": 3
   },
   "file_extension": ".py",
   "mimetype": "text/x-python",
   "name": "python",
   "nbconvert_exporter": "python",
   "pygments_lexer": "ipython3",
   "version": "3.8.8"
  }
 },
 "nbformat": 4,
 "nbformat_minor": 5
}
